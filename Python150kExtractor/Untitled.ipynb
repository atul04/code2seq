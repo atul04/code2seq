{
 "cells": [
  {
   "cell_type": "code",
   "execution_count": 5,
   "metadata": {},
   "outputs": [],
   "source": [
    "!PYTHON150K_DIR=./PYTHON150_data"
   ]
  },
  {
   "cell_type": "code",
   "execution_count": 8,
   "metadata": {},
   "outputs": [
    {
     "name": "stdout",
     "output_type": "stream",
     "text": [
      "Usage: mkdir [OPTION]... DIRECTORY...\r\n",
      "Create the DIRECTORY(ies), if they do not already exist.\r\n",
      "\r\n",
      "Mandatory arguments to long options are mandatory for short options too.\r\n",
      "  -m, --mode=MODE   set file mode (as in chmod), not a=rwx - umask\r\n",
      "  -p, --parents     no error if existing, make parent directories as needed\r\n",
      "  -v, --verbose     print a message for each created directory\r\n",
      "  -Z                   set SELinux security context of each created directory\r\n",
      "                         to the default type\r\n",
      "      --context[=CTX]  like -Z, or if CTX is specified then set the SELinux\r\n",
      "                         or SMACK security context to CTX\r\n",
      "      --help     display this help and exit\r\n",
      "      --version  output version information and exit\r\n",
      "\r\n",
      "GNU coreutils online help: <http://www.gnu.org/software/coreutils/>\r\n",
      "Full documentation at: <http://www.gnu.org/software/coreutils/mkdir>\r\n",
      "or available locally via: info '(coreutils) mkdir invocation'\r\n"
     ]
    }
   ],
   "source": [
    "!mkdir --help"
   ]
  },
  {
   "cell_type": "code",
   "execution_count": 9,
   "metadata": {},
   "outputs": [
    {
     "name": "stdout",
     "output_type": "stream",
     "text": [
      "mkdir: missing operand\r\n",
      "Try 'mkdir --help' for more information.\r\n"
     ]
    }
   ],
   "source": [
    "!mkdir $PYTHON150K_DIR"
   ]
  },
  {
   "cell_type": "code",
   "execution_count": null,
   "metadata": {},
   "outputs": [],
   "source": [
    "!echo $PYTHON150K_DIR"
   ]
  },
  {
   "cell_type": "code",
   "execution_count": null,
   "metadata": {},
   "outputs": [],
   "source": []
  }
 ],
 "metadata": {
  "kernelspec": {
   "display_name": "venv",
   "language": "python",
   "name": "venv"
  },
  "language_info": {
   "codemirror_mode": {
    "name": "ipython",
    "version": 3
   },
   "file_extension": ".py",
   "mimetype": "text/x-python",
   "name": "python",
   "nbconvert_exporter": "python",
   "pygments_lexer": "ipython3",
   "version": "3.7.1"
  }
 },
 "nbformat": 4,
 "nbformat_minor": 4
}
